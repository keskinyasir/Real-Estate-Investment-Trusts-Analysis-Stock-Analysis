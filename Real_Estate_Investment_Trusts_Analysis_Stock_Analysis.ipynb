{
  "nbformat": 4,
  "nbformat_minor": 0,
  "metadata": {
    "kernelspec": {
      "display_name": "Python 3",
      "language": "python",
      "name": "python3"
    },
    "language_info": {
      "codemirror_mode": {
        "name": "ipython",
        "version": 3
      },
      "file_extension": ".py",
      "mimetype": "text/x-python",
      "name": "python",
      "nbconvert_exporter": "python",
      "pygments_lexer": "ipython3",
      "version": "3.6.5"
    },
    "latex_envs": {
      "LaTeX_envs_menu_present": true,
      "autoclose": false,
      "autocomplete": true,
      "bibliofile": "biblio.bib",
      "cite_by": "apalike",
      "current_citInitial": 1,
      "eqLabelWithNumbers": true,
      "eqNumInitial": 1,
      "hotkeys": {
        "equation": "Ctrl-E",
        "itemize": "Ctrl-I"
      },
      "labels_anchors": false,
      "latex_user_defs": false,
      "report_style_numbering": false,
      "user_envs_cfg": false
    },
    "colab": {
      "name": "Real Estate Investment Trusts Analysis Stock Analysis.ipynb",
      "provenance": [],
      "collapsed_sections": [],
      "include_colab_link": true
    }
  },
  "cells": [
    {
      "cell_type": "markdown",
      "metadata": {
        "id": "view-in-github",
        "colab_type": "text"
      },
      "source": [
        "<a href=\"https://colab.research.google.com/github/keskinyasir/Real-Estate-Investment-Trusts-Analysis-Stock-Analysis/blob/main/Real_Estate_Investment_Trusts_Analysis_Stock_Analysis.ipynb\" target=\"_parent\"><img src=\"https://colab.research.google.com/assets/colab-badge.svg\" alt=\"Open In Colab\"/></a>"
      ]
    },
    {
      "cell_type": "markdown",
      "metadata": {
        "id": "IiVAx0h1VsTi"
      },
      "source": [
        "# REIT STOCK ANALYSIS"
      ]
    },
    {
      "cell_type": "markdown",
      "metadata": {
        "id": "zX8Df2uaVsTj"
      },
      "source": [
        "In this project, you will analyze Real Estate Investment Trusts, commonly known as REITs. REITs are companies that own or operate real estate that produces income. REITs, like the stocks of regular public companies, are traded on different stock exchanges. Investing in a REIT allows you to invest in portfolios of real estate assets the same way you can invest in a company by buying its stock.\n",
        "\n",
        "Using financial statistics and NumPy you will analyze two REITs: [Sabra Health Care REIT Inc. (NASDAQ: SBRA)](https://finance.yahoo.com/quote/SBRA/), which invests in health care real estate, and [Equity Residential (NASDAQ:EQR)](https://finance.yahoo.com/quote/EQR/), which invests in rental apartment properties."
      ]
    },
    {
      "cell_type": "markdown",
      "metadata": {
        "id": "ZqdwfCOdVsTk"
      },
      "source": [
        "The time period for analysis we will be using is `Jan 1 2019` to `Dec 31 2019`. The REIT data for SBRA (`SBRA.csv`) and EQR (`EQR.csv`) can be found in the same folder as this file."
      ]
    },
    {
      "cell_type": "markdown",
      "metadata": {
        "id": "ntJhVLWmVsTl"
      },
      "source": [
        "1. Import the numpy module as np"
      ]
    },
    {
      "cell_type": "code",
      "metadata": {
        "id": "WPLsKwtbVsTl"
      },
      "source": [
        "import numpy as np"
      ],
      "execution_count": 41,
      "outputs": []
    },
    {
      "cell_type": "markdown",
      "metadata": {
        "id": "QgGO8r0eVsTp"
      },
      "source": [
        "2. Load the adjusted closings for SBRA"
      ]
    },
    {
      "cell_type": "code",
      "metadata": {
        "id": "XpaHvtIEVsTq",
        "outputId": "ca3efea2-6565-4b44-a6d8-78a5a8675de8",
        "colab": {
          "base_uri": "https://localhost:8080/"
        }
      },
      "source": [
        "adj_closing_sbra = np.loadtxt('SBRA.csv', skiprows=1, usecols=5, delimiter=',')\n",
        "print(adj_closing_sbra)"
      ],
      "execution_count": 44,
      "outputs": [
        {
          "output_type": "stream",
          "text": [
            "[13.792294 14.375914 14.839377 15.156935 15.646145 15.731968 15.723386\n",
            " 15.646145 15.500237 15.637561 16.023779 16.255512 16.470079 16.435747\n",
            " 16.607401 16.856297 17.139524 17.405582 17.397001 17.560072 17.628735\n",
            " 17.439915 17.654482 17.542908 17.628735 17.78322  17.645899 17.602983\n",
            " 17.379837 17.354086 17.362867 17.547203 17.406755 17.275087 17.257528\n",
            " 17.187305 16.73085  16.502623 16.195393 15.905723 15.545819 15.484375\n",
            " 15.493154 15.396595 15.370262 15.326371 15.607269 15.80916  16.107613\n",
            " 16.133947 16.063723 15.914496 15.94961  16.142727 16.68696  16.42362\n",
            " 16.56407  16.844963 16.941523 17.231194 17.090746 16.967855 16.950298\n",
            " 16.783518 16.844963 17.020523 16.941523 16.880074 17.099524 17.275087\n",
            " 17.275087 17.257528 16.897631 16.485069 16.801075 16.528957 16.801075\n",
            " 16.976633 16.976633 17.196085 17.029303 17.169748 17.143415 17.187305\n",
            " 17.555983 17.468199 17.187305 17.345308 16.91519  17.336531 17.275087\n",
            " 17.433092 17.573538 17.731541 17.695631 17.534025 17.713587 17.686653\n",
            " 17.695631 17.731541 17.543003 17.255709 17.390379 17.318556 17.273664\n",
            " 17.14797  17.345486 17.4622   17.498114 17.345486 17.318556 17.345486\n",
            " 17.489134 17.444246 17.767452 17.578915 18.081682 18.000879 17.569937\n",
            " 17.336508 17.29162  16.941479 17.4622   17.677673 17.632782 17.982927\n",
            " 18.234308 18.225332 18.44978  18.485693 18.647295 18.40489  18.39591\n",
            " 18.324089 18.333067 18.386936 18.593428 17.938034 18.09066  18.566494\n",
            " 18.674229 18.440804 18.665253 18.530582 18.808901 18.530582 18.638321\n",
            " 18.575474 18.09066  18.135551 18.494671 19.141085 19.266779 18.943569\n",
            " 18.925613 18.746052 18.790943 19.347578 19.751036 19.686852 19.8519\n",
            " 20.191172 19.751036 19.732697 19.549307 19.54014  19.870239 19.824394\n",
            " 20.41124  20.356222 20.154491 20.099478 20.099478 19.943598 20.512104\n",
            " 20.622137 20.218679 20.667982 20.906389 20.594627 20.594627 20.805525\n",
            " 20.677153 20.594627 20.869711 20.924728 21.007254 21.053102 20.741341\n",
            " 20.622137 20.805525 20.888052 20.842201 20.750507 20.631306 20.603796\n",
            " 20.851374 20.924728 21.245659 21.23649  21.474895 21.667454 21.887524\n",
            " 21.731644 21.951708 21.860016 21.548252 21.667454 21.832504 21.860016\n",
            " 22.556892 22.309319 21.970047 21.39237  21.089779 20.686321 20.823864\n",
            " 20.759678 20.548779 20.814695 20.852116 20.552757 20.665016 20.88018\n",
            " 20.590178 20.23469  20.281464 20.440498 20.412434 20.936308 20.84276\n",
            " 20.27211  20.5434   20.721146 20.721146 20.646307 20.739857 20.477919\n",
            " 20.047592 19.495651 19.233713 19.682751 19.402103 19.654684 19.907269\n",
            " 19.991463 19.664042 19.635975 19.486298 19.589201 19.710814]\n"
          ],
          "name": "stdout"
        }
      ]
    },
    {
      "cell_type": "markdown",
      "metadata": {
        "id": "e_Tq3fXtVsTv"
      },
      "source": [
        "3. Load the adjusted closings for EQR"
      ]
    },
    {
      "cell_type": "code",
      "metadata": {
        "id": "mNp5P--VVsTw",
        "outputId": "78706e89-8e14-4312-b36f-426f04110d51",
        "colab": {
          "base_uri": "https://localhost:8080/"
        }
      },
      "source": [
        "adj_closing_eqr = np.loadtxt('EQR.csv', skiprows=1, usecols=5, delimiter=',')\n",
        "print(adj_closing_eqr)"
      ],
      "execution_count": 45,
      "outputs": [
        {
          "output_type": "stream",
          "text": [
            "[60.022449 60.39901  60.775558 61.283901 62.432396 62.432396 63.4585\n",
            " 63.590294 63.665604 64.446945 65.030609 65.811958 66.009651 66.273224\n",
            " 66.216736 66.226143 66.527397 67.515846 68.127762 67.779442 68.306595\n",
            " 67.798256 68.52314  68.673752 68.720818 69.229164 69.135017 69.153854\n",
            " 68.287788 68.993828 68.833786 68.91851  69.219757 68.419571 69.530403\n",
            " 69.878723 69.191513 69.398621 69.031479 69.370361 69.191513 69.643372\n",
            " 69.596298 69.238571 69.125618 69.323303 70.076401 70.650658 70.518867\n",
            " 70.660057 70.377655 69.643372 69.191513 69.304489 70.405899 70.57473\n",
            " 70.641144 71.276688 71.124924 71.741493 71.447433 71.124924 71.798416\n",
            " 71.51384  71.4095   71.722527 71.675095 71.51384  72.424477 72.746994\n",
            " 73.467918 73.610214 71.836349 70.470398 71.210289 70.356567 71.105949\n",
            " 71.589729 72.064018 72.282196 71.428474 72.490883 72.585739 72.471901\n",
            " 72.65213  72.291672 70.925705 70.612679 70.973145 71.931213 71.940697\n",
            " 71.912239 72.272713 72.860825 72.680595 71.855324 72.433968 72.69957\n",
            " 73.145401 73.221298 72.291672 71.779434 71.92173  72.633156 72.320129\n",
            " 71.599205 73.278214 73.790443 73.97068  73.828392 73.799919 73.657639\n",
            " 73.923241 74.236282 74.625191 74.037079 74.397537 74.77697  74.018105\n",
            " 74.245758 72.955688 71.76046  72.265114 72.561386 72.771667 74.004593\n",
            " 74.874336 74.472923 75.342667 75.810989 76.049927 75.782326 75.361771\n",
            " 75.629395 75.361771 75.161064 75.113281 73.736992 73.47892  74.511147\n",
            " 74.004593 74.644951 75.084602 76.088165 76.021263 75.400002 76.059494\n",
            " 76.919662 74.72142  75.638947 76.250633 77.263748 77.674721 77.62693\n",
            " 77.311523 76.288864 77.56002  78.028351 79.108353 78.792961 78.974564\n",
            " 79.328186 79.089249 79.911201 80.073685 79.930313 80.542    81.01033\n",
            " 81.994766 82.472641 82.185913 83.007858 81.344849 80.723595 81.01989\n",
            " 81.583786 80.809624 81.287498 82.071228 81.497765 81.72715  81.402191\n",
            " 81.459534 81.688919 82.281487 82.921852 82.977654 82.987267 82.900688\n",
            " 82.833336 83.776169 84.15136  84.430367 84.228333 84.257195 84.815193\n",
            " 84.30529  84.257195 84.237946 84.680496 84.420746 85.01722  85.353935\n",
            " 85.084557 84.507324 84.257195 84.353394 84.132118 84.247574 85.479004\n",
            " 85.296219 84.795937 83.72805  81.592285 82.333076 80.880356 80.793777\n",
            " 80.966949 80.245407 81.650017 82.525475 83.179688 83.689568 83.766541\n",
            " 83.372093 81.823181 81.573044 81.313286 82.131042 82.381165 81.871284\n",
            " 80.331985 80.668709 81.053535 81.332527 81.236328 81.342148 80.947708\n",
            " 79.543106 78.677238 77.936462 78.407875 77.070595 77.243774 77.311119\n",
            " 77.253395 76.685783 77.33036  77.532387 77.878731 77.657463]\n"
          ],
          "name": "stdout"
        }
      ]
    },
    {
      "cell_type": "markdown",
      "metadata": {
        "id": "0V0k6h1_VsT0"
      },
      "source": [
        "## Simple Rate of Return Function"
      ]
    },
    {
      "cell_type": "markdown",
      "metadata": {
        "id": "Rp4mevypVsT0"
      },
      "source": [
        "4. To calculate the daily rate of return for the SBRA stock, we need the daily adjusted closing price. The formula we are using for the daily rate of return is out[n] = a[n+1] - a[n] "
      ]
    },
    {
      "cell_type": "markdown",
      "metadata": {
        "id": "MIoMusLrVsT1"
      },
      "source": [
        "5. Create a function that returns the daily rate of return\n",
        "\n",
        "    step 1. define a function named `rate_of_return`\n",
        "    \n",
        "    step 2. create parameter for  `adj_closings`\n",
        "    \n",
        "    step 3. Within the function use np.diff() and set it to the variable `daily_simple_ror`\n",
        "    \n",
        "    step 4. return `daily_simple_ror`"
      ]
    },
    {
      "cell_type": "code",
      "metadata": {
        "id": "RpqO8-WAVsT2"
      },
      "source": [
        "def rate_of_return(adj_closing):\n",
        "  daily_simple_ror = np.diff(adj_closing)/adj_closing[:-1]\n",
        "  return daily_simple_ror"
      ],
      "execution_count": 46,
      "outputs": []
    },
    {
      "cell_type": "markdown",
      "metadata": {
        "id": "51qXzJlxVsT5"
      },
      "source": [
        "## Calculate Daily Rate of Return for SBRA"
      ]
    },
    {
      "cell_type": "markdown",
      "metadata": {
        "id": "ks8FFs7tVsT6"
      },
      "source": [
        "6. Call the function `simple_rate_of_return` with the arguments `adj_closings_sbra`. Then print the results. "
      ]
    },
    {
      "cell_type": "code",
      "metadata": {
        "id": "NnF0Vv61VsT7",
        "outputId": "bf5d4403-fdb2-4af3-ceb7-e64100ff5f92",
        "colab": {
          "base_uri": "https://localhost:8080/"
        }
      },
      "source": [
        "daily_simple_returns_sbra = simple_rate_of_return(adj_closing_sbra)\n",
        "print(daily_simple_returns_sbra)"
      ],
      "execution_count": 47,
      "outputs": [
        {
          "output_type": "stream",
          "text": [
            "[ 0.04231493  0.03223885  0.02139969  0.03227631  0.00548525 -0.00054551\n",
            " -0.00491249 -0.00932549  0.00885948  0.0246981   0.01446182  0.01319965\n",
            " -0.00208451  0.01044394  0.01498705  0.01680244  0.01552307 -0.000493\n",
            "  0.00937351  0.00391018 -0.01071092  0.01230321 -0.00631987  0.0048924\n",
            "  0.00876325 -0.00772194 -0.00243207 -0.0126766  -0.00148166  0.00050599\n",
            "  0.01061668 -0.00800401 -0.00756419 -0.00101643 -0.00406912 -0.02655768\n",
            " -0.01364109 -0.01861704 -0.01788595 -0.02262733 -0.00395245  0.00056696\n",
            " -0.00623237 -0.00171031 -0.00285558  0.01832776  0.0129357   0.01887849\n",
            "  0.00163488 -0.00435256 -0.00928969  0.00220642  0.01210794  0.03371382\n",
            " -0.01578118  0.00855171  0.01695797  0.00573228  0.01709829 -0.0081508\n",
            " -0.0071905  -0.00103472 -0.00983936  0.00366103  0.01042211 -0.00464146\n",
            " -0.00362712  0.01300054  0.01026713  0.         -0.00101643 -0.02085449\n",
            " -0.02441538  0.01916923 -0.01619646  0.01646311  0.01044921  0.\n",
            "  0.01292671 -0.00969884  0.00824725 -0.00153369  0.00256017  0.0214506\n",
            " -0.00500023 -0.01608031  0.00919301 -0.02479737  0.02490903 -0.00354419\n",
            "  0.00914641  0.00805629  0.00899096 -0.0020252  -0.00913254  0.01024077\n",
            " -0.00152053  0.00050761  0.00202931 -0.01063292 -0.01637656  0.00780437\n",
            " -0.00413004 -0.00259213 -0.00727663  0.01151833  0.00672878  0.00205667\n",
            " -0.00872254 -0.00155257  0.00155498  0.00828158 -0.00256662  0.01852794\n",
            " -0.01061137  0.02860057 -0.00446878 -0.02394005 -0.01328571 -0.00258922\n",
            " -0.02024917  0.03073645  0.0123394  -0.00253942  0.01985762  0.01397887\n",
            " -0.00049226  0.01231517  0.00194653  0.008742   -0.01299947 -0.00048791\n",
            " -0.00390418  0.00048996  0.00293835  0.01123036 -0.03524869  0.00850851\n",
            "  0.02630274  0.00580266 -0.01249985  0.01217132 -0.00721506  0.01501944\n",
            " -0.0147972   0.00581412 -0.00337192 -0.02609968  0.00248145  0.01980199\n",
            "  0.03495137  0.00656671 -0.01677551 -0.00094787 -0.00948772  0.00239469\n",
            "  0.02962252  0.02085315 -0.00324965  0.00838367  0.01709015 -0.02179844\n",
            " -0.00092851 -0.00929371 -0.00046892  0.01689338 -0.00230722  0.02960222\n",
            " -0.00269548 -0.00991004 -0.00272957  0.         -0.00775543  0.02850569\n",
            "  0.0053643  -0.01956432  0.02222217  0.01153509 -0.01491228  0.\n",
            "  0.01024044 -0.00617009 -0.00399117  0.01335708  0.00263621  0.00394395\n",
            "  0.00218248 -0.01480832 -0.00574717  0.00889277  0.00396659 -0.00219508\n",
            " -0.00439944 -0.00574449 -0.00133341  0.01201614  0.00351795  0.0153374\n",
            " -0.00043157  0.0112262   0.0089667   0.01015671 -0.00712187  0.01012643\n",
            " -0.00417699 -0.01426184  0.00553186  0.00761742  0.00126014  0.03187903\n",
            " -0.01097549 -0.01520764 -0.02629384 -0.01414481 -0.0191305   0.00664898\n",
            " -0.00308233 -0.01015907  0.01294072  0.00179782 -0.01435629  0.00546199\n",
            "  0.01041199 -0.01388886 -0.01726493  0.00231157  0.00784135 -0.00137296\n",
            "  0.02566446 -0.00446822 -0.02737881  0.01338243  0.00865222  0.\n",
            " -0.00361172  0.00453108 -0.01262969 -0.0210142  -0.02753154 -0.01343571\n",
            "  0.0233464  -0.01425858  0.01301823  0.01285114  0.00422931 -0.01637804\n",
            " -0.00142733 -0.00762259  0.00528079  0.00620817]\n"
          ],
          "name": "stdout"
        }
      ]
    },
    {
      "cell_type": "markdown",
      "metadata": {
        "id": "_Sld4m49VsT_"
      },
      "source": [
        "## Calculate Daily Rate of Return for EQR"
      ]
    },
    {
      "cell_type": "markdown",
      "metadata": {
        "id": "yjRxMXUeVsT_"
      },
      "source": [
        "7. Call the function `simple_rate_of_return` with the arguments `adj_closings_eqr`. Then print the results. "
      ]
    },
    {
      "cell_type": "code",
      "metadata": {
        "scrolled": true,
        "id": "IxAjhgg6VsUA",
        "outputId": "03ee5af3-d16b-423a-b15c-8136cdb99528",
        "colab": {
          "base_uri": "https://localhost:8080/"
        }
      },
      "source": [
        "daily_simple_returns_eqr = simple_rate_of_return(adj_closing_eqr)\n",
        "print(daily_simple_returns_eqr)"
      ],
      "execution_count": 48,
      "outputs": [
        {
          "output_type": "stream",
          "text": [
            "[ 0.00627367  0.00623434  0.00836427  0.01874057  0.          0.01643544\n",
            "  0.00207685  0.0011843   0.01227258  0.0090565   0.0120151   0.00300391\n",
            "  0.00399295 -0.00085235  0.00014206  0.00454887  0.01485777  0.00906329\n",
            " -0.00511275  0.00777748 -0.00744202  0.01069178  0.00219797  0.00068536\n",
            "  0.00739726 -0.00135993  0.00027247 -0.01252376  0.01033918 -0.00231966\n",
            "  0.00123085  0.00437106 -0.01156008  0.01623559  0.00500961 -0.00983432\n",
            "  0.00299326 -0.00529034  0.00490909 -0.00257816  0.00653056 -0.00067593\n",
            " -0.00514003 -0.00163136  0.00285979  0.01086356  0.00819473 -0.00186539\n",
            "  0.00200216 -0.00399663 -0.01043347 -0.00648818  0.0016328   0.01589233\n",
            "  0.00239797  0.00094105  0.0089968  -0.00212922  0.00866882 -0.00409888\n",
            " -0.00451393  0.00946914 -0.00396354 -0.00145902  0.00438355 -0.00066133\n",
            " -0.00224981  0.01273372  0.00445315  0.00991002  0.00193685 -0.02409808\n",
            " -0.01901476  0.01049932 -0.01198875  0.0106512   0.00680365  0.0066251\n",
            "  0.00302756 -0.01181096  0.01487375  0.00130852 -0.00156832  0.00248688\n",
            " -0.00496142 -0.01889522 -0.00441344  0.00510483  0.01349902  0.00013185\n",
            " -0.00039558  0.00501269  0.0081374  -0.00247362 -0.01135476  0.0080529\n",
            "  0.00366682  0.00613251  0.00103762 -0.01269611 -0.00708571  0.00198241\n",
            "  0.00989167 -0.0043097  -0.00996851  0.02345011  0.00699019  0.00244255\n",
            " -0.00192357 -0.00038566 -0.00192792  0.0036059   0.00423468  0.0052388\n",
            " -0.00788088  0.00486861  0.00510007 -0.01014838  0.00307564 -0.01737567\n",
            " -0.01638293  0.00703248  0.00409979  0.00289797  0.01694239  0.01175255\n",
            " -0.00536116  0.01167866  0.00621589  0.00315176 -0.00351875 -0.00554951\n",
            "  0.00355119 -0.00353862 -0.00266325 -0.00063574 -0.01832284 -0.0034999\n",
            "  0.01404793 -0.00679837  0.00865295  0.0058899   0.01336576 -0.00087927\n",
            " -0.0081722   0.00874658  0.01130915 -0.02857841  0.0122793   0.00808692\n",
            "  0.01328664  0.00531909 -0.00061527 -0.00406311 -0.01322777  0.01666241\n",
            "  0.0060383   0.01384115 -0.00398684  0.00230481  0.00447767 -0.00301201\n",
            "  0.01039271  0.00203331 -0.0017905   0.00765275  0.00581473  0.01215198\n",
            "  0.00582812 -0.00347664  0.01000104 -0.02003436 -0.00763729  0.00367049\n",
            "  0.00695997 -0.00948916  0.00591358  0.00964146 -0.00698738  0.00281462\n",
            " -0.00397615  0.00070444  0.00281594  0.00725396  0.00778261  0.00067295\n",
            "  0.00011585 -0.00104328 -0.00081244  0.01138229  0.00447849  0.00331554\n",
            " -0.00239291  0.00034266  0.00662256 -0.00601193 -0.00057049 -0.00022846\n",
            "  0.00525357 -0.00306741  0.00706549  0.00396055 -0.00315601 -0.00678423\n",
            " -0.00295985  0.00114173 -0.0026232   0.00137232  0.0146168  -0.00213836\n",
            " -0.00586523 -0.01259361 -0.02550836  0.00907918 -0.01764443 -0.00107046\n",
            "  0.00214338 -0.00891156  0.01750393  0.01072208  0.00792741  0.00612986\n",
            "  0.00091974 -0.0047089  -0.0185783  -0.00305704 -0.00318436  0.01005686\n",
            "  0.00304541 -0.00618929 -0.01880145  0.00419166  0.00477045  0.00344207\n",
            " -0.00118279  0.00130262 -0.00484915 -0.01735197 -0.01088552 -0.00941538\n",
            "  0.00604868 -0.01705543  0.00224702  0.00087185 -0.00074665 -0.00734741\n",
            "  0.00840543  0.00261252  0.00446709 -0.00284119]\n"
          ],
          "name": "stdout"
        }
      ]
    },
    {
      "cell_type": "markdown",
      "metadata": {
        "id": "e3x8fL32VsUD"
      },
      "source": [
        "## Calculate Average Daily Return for SBRA"
      ]
    },
    {
      "cell_type": "markdown",
      "metadata": {
        "id": "zIyPhrOtVsUE"
      },
      "source": [
        "8. Use `np.mean()` with the argument `daily_simple_returns_sbra` to calculate the average daily return for SBRA. Then set it to the variable name `average_daily_simple_return_sbra`"
      ]
    },
    {
      "cell_type": "code",
      "metadata": {
        "id": "kM51xPMJVsUF",
        "outputId": "e637c33e-5a94-4961-fe69-959ae013d5d1",
        "colab": {
          "base_uri": "https://localhost:8080/"
        }
      },
      "source": [
        "average_daily_simple_return_sbra = np.mean(daily_simple_returns_sbra)\n",
        "print(average_daily_simple_return_sbra)"
      ],
      "execution_count": 49,
      "outputs": [
        {
          "output_type": "stream",
          "text": [
            "0.0015191121613805383\n"
          ],
          "name": "stdout"
        }
      ]
    },
    {
      "cell_type": "markdown",
      "metadata": {
        "id": "7a28hRvmVsUI"
      },
      "source": [
        "## Calculate Average Daily Return for EQR"
      ]
    },
    {
      "cell_type": "markdown",
      "metadata": {
        "id": "JaSylLJiVsUI"
      },
      "source": [
        "9. Use `np.mean()` with the argument `daily_simple_returns_eqr` to calculate the average daily return for EQR. Then set it to the variable name `average_daily_simple_return_eqr`"
      ]
    },
    {
      "cell_type": "code",
      "metadata": {
        "id": "X8GuVrwsVsUJ",
        "outputId": "354e10e1-9304-4f3a-f4c8-2608eaa4f4e3",
        "colab": {
          "base_uri": "https://localhost:8080/"
        }
      },
      "source": [
        "average_daily_simple_return_eqr = np.mean(daily_simple_returns_eqr)\n",
        "print(average_daily_simple_return_eqr)"
      ],
      "execution_count": 50,
      "outputs": [
        {
          "output_type": "stream",
          "text": [
            "0.001067328368452012\n"
          ],
          "name": "stdout"
        }
      ]
    },
    {
      "cell_type": "markdown",
      "metadata": {
        "id": "iXGMD-evVsUM"
      },
      "source": [
        "## Compare the Average Daily Return between EQR and SBRA"
      ]
    },
    {
      "cell_type": "markdown",
      "metadata": {
        "id": "D7EKpjPCVsUM"
      },
      "source": [
        "10. Based on the average daily simple returns of EQR and SBRA, which stock is more likely to be profitable in the future?"
      ]
    },
    {
      "cell_type": "markdown",
      "metadata": {
        "id": "ogwAFlqWVsUN"
      },
      "source": [
        ""
      ]
    },
    {
      "cell_type": "markdown",
      "metadata": {
        "id": "Uebk4lgfVsUN"
      },
      "source": [
        "## Daily Log Returns Function"
      ]
    },
    {
      "cell_type": "markdown",
      "metadata": {
        "id": "XraWUlrbVsUO"
      },
      "source": [
        "11. Create a function that returns the daily rate of return\n",
        "\n",
        "    step 1. define a function named log_returns\n",
        "    \n",
        "    step 2. create parameter for  `adj_closings`\n",
        "    \n",
        "    step 3. use np.log() to get the log of each adjusted closing price and set it to the variable `log_adj_closings`\n",
        "    \n",
        "    step 4. use np.diff() to get the diff of each daily log adjusted closing price and set it to the variable `daily_log_returns`\n",
        "    \n",
        "    step 5. return `daily_log_returns`"
      ]
    },
    {
      "cell_type": "code",
      "metadata": {
        "id": "zYDHcv1mVsUP"
      },
      "source": [
        "def log_returns(adj_closings):\n",
        "    log_adj_closings = np.log(adj_closings)\n",
        "    daily_log_returns = np.diff(log_adj_closings)\n",
        "    return daily_log_returns"
      ],
      "execution_count": 51,
      "outputs": []
    },
    {
      "cell_type": "markdown",
      "metadata": {
        "id": "cGMXP2zuVsUS"
      },
      "source": [
        "## Calculate Daily Log Returns for SBRA"
      ]
    },
    {
      "cell_type": "markdown",
      "metadata": {
        "id": "kV5JzoeFVsUS"
      },
      "source": [
        "12. Call the function `log_returns` with the arguments `adj_closings_sbra`. Set it to the variable `daily_log_returns_sbra`. Then print the results. "
      ]
    },
    {
      "cell_type": "code",
      "metadata": {
        "scrolled": true,
        "id": "PRaGvPrvVsUT",
        "outputId": "b9395740-ef60-4e7e-c5be-12baebc72473",
        "colab": {
          "base_uri": "https://localhost:8080/"
        }
      },
      "source": [
        "daily_log_returns_sbra = log_returns(adj_closing_sbra)\n",
        "print(daily_log_returns_sbra)"
      ],
      "execution_count": 52,
      "outputs": [
        {
          "output_type": "stream",
          "text": [
            "[ 0.04144414  0.03173009  0.02117393  0.03176638  0.00547026 -0.00054566\n",
            " -0.0049246  -0.00936925  0.00882046  0.02439803  0.01435824  0.01311329\n",
            " -0.00208668  0.01038978  0.01487586  0.01666285  0.01540382 -0.00049312\n",
            "  0.00932985  0.00390255 -0.0107687   0.01222814 -0.00633992  0.00488048\n",
            "  0.00872507 -0.00775191 -0.00243503 -0.01275764 -0.00148276  0.00050586\n",
            "  0.01056072 -0.00803621 -0.00759294 -0.00101695 -0.00407742 -0.02691671\n",
            " -0.01373498 -0.01879252 -0.01804784 -0.02288725 -0.00396028  0.0005668\n",
            " -0.00625187 -0.00171178 -0.00285966  0.01816183  0.01285275  0.0187025\n",
            "  0.00163354 -0.00436206 -0.00933311  0.00220399  0.01203523  0.03315797\n",
            " -0.01590703  0.00851535  0.01681579  0.00571591  0.01695376 -0.0081842\n",
            " -0.00721648 -0.00103526 -0.00988808  0.00365435  0.01036817 -0.00465226\n",
            " -0.00363372  0.01291675  0.01021478  0.         -0.00101695 -0.02107502\n",
            " -0.02471837  0.01898781 -0.01632906  0.01632906  0.010395    0.\n",
            "  0.01284387 -0.00974618  0.00821343 -0.00153486  0.0025569   0.02122377\n",
            " -0.00501278 -0.016211    0.00915101 -0.02511     0.02460386 -0.00355049\n",
            "  0.00910483  0.00802401  0.00895078 -0.00202726 -0.00917449  0.01018869\n",
            " -0.00152168  0.00050749  0.00202726 -0.01068985 -0.01651214  0.00777408\n",
            " -0.00413859 -0.0025955  -0.00730323  0.0114525   0.00670625  0.00205456\n",
            " -0.0087608  -0.00155377  0.00155377  0.00824747 -0.00256992  0.01835839\n",
            " -0.01066807  0.02819921 -0.00447879 -0.02423127 -0.01337475 -0.00259258\n",
            " -0.020457    0.03027355  0.01226389 -0.00254265  0.01966302  0.01388207\n",
            " -0.00049238  0.01223995  0.00194464  0.00870401 -0.01308471 -0.00048803\n",
            " -0.00391182  0.00048984  0.00293404  0.01116777 -0.03588492  0.00847252\n",
            "  0.02596278  0.00578589 -0.01257863  0.01209785 -0.00724122  0.01490777\n",
            " -0.01490777  0.00579728 -0.00337762 -0.02644633  0.00247837  0.01960848\n",
            "  0.03435444  0.00654525 -0.01691781 -0.00094832 -0.00953302  0.00239183\n",
            "  0.02919225  0.0206387  -0.00325494  0.00834872  0.01694576 -0.02203953\n",
            " -0.00092894 -0.00933717 -0.00046903  0.01675227 -0.00230989  0.02917253\n",
            " -0.00269911 -0.00995947 -0.0027333   0.         -0.00778565  0.02810696\n",
            "  0.00534996 -0.01975823  0.02197886  0.01146907 -0.01502459  0.\n",
            "  0.01018836 -0.00618921 -0.00399915  0.01326866  0.00263274  0.00393619\n",
            "  0.00218011 -0.01491905 -0.00576375  0.00885347  0.00395874 -0.0021975\n",
            " -0.00440915 -0.00576105 -0.0013343   0.01194451  0.00351177  0.01522097\n",
            " -0.00043166  0.01116365  0.00892674  0.01010548 -0.00714735  0.0100755\n",
            " -0.00418574 -0.01436452  0.00551662  0.00758855  0.00125935  0.03138144\n",
            " -0.01103617 -0.01532446 -0.02664571 -0.0142458  -0.01931585  0.00662698\n",
            " -0.00308709 -0.01021102  0.0128577   0.0017962  -0.01446034  0.00544713\n",
            "  0.01035816 -0.01398622 -0.01741571  0.00230891  0.00781076 -0.0013739\n",
            "  0.02534065 -0.00447823 -0.0277606   0.01329367  0.008615    0.\n",
            " -0.00361826  0.00452084 -0.01271012 -0.02123814 -0.02791763 -0.01352679\n",
            "  0.02307804 -0.01436121  0.01293422  0.01276926  0.00422039 -0.01651364\n",
            " -0.00142835 -0.00765179  0.00526689  0.00618897]\n"
          ],
          "name": "stdout"
        }
      ]
    },
    {
      "cell_type": "markdown",
      "metadata": {
        "id": "lsgL1xVBVsUY"
      },
      "source": [
        "## Calculate Daily Log Returns for EQR"
      ]
    },
    {
      "cell_type": "markdown",
      "metadata": {
        "id": "OsCXi5YZVsUa"
      },
      "source": [
        "13. Call the function `log_returns` with the arguments `adj_closings_eqr`. Set it to the variable `daily_log_returns_eqr`. Then print the results. "
      ]
    },
    {
      "cell_type": "code",
      "metadata": {
        "id": "r7rn2EjmVsUa",
        "outputId": "4ce3a752-d994-48db-881e-4133fb701f2c",
        "colab": {
          "base_uri": "https://localhost:8080/"
        }
      },
      "source": [
        "daily_log_returns_eqr = log_returns(adj_closing_eqr)\n",
        "print(daily_log_returns_eqr)"
      ],
      "execution_count": 53,
      "outputs": [
        {
          "output_type": "stream",
          "text": [
            "[ 0.00625407  0.00621499  0.00832948  0.01856713  0.          0.01630184\n",
            "  0.0020747   0.0011836   0.01219788  0.00901574  0.01194349  0.0029994\n",
            "  0.003985   -0.00085271  0.00014205  0.00453855  0.01474848  0.00902247\n",
            " -0.00512586  0.00774739 -0.00746985  0.01063503  0.00219556  0.00068512\n",
            "  0.00737004 -0.00136086  0.00027243 -0.01260284  0.0102861  -0.00232235\n",
            "  0.00123009  0.00436154 -0.01162742  0.0161052   0.0049971  -0.009883\n",
            "  0.00298879 -0.00530438  0.00489708 -0.00258149  0.00650932 -0.00067616\n",
            " -0.00515328 -0.00163269  0.00285571  0.01080498  0.00816133 -0.00186713\n",
            "  0.00200016 -0.00400464 -0.01048828 -0.00650932  0.00163147  0.01576737\n",
            "  0.0023951   0.0009406   0.00895657 -0.00213149  0.00863146 -0.00410731\n",
            " -0.00452415  0.00942459 -0.00397142 -0.00146008  0.00437397 -0.00066155\n",
            " -0.00225234  0.01265332  0.00444326  0.00986124  0.00193497 -0.02439319\n",
            " -0.01919787  0.01044458 -0.01206119  0.01059488  0.00678061  0.00660325\n",
            "  0.00302298 -0.01188126  0.01476422  0.00130767 -0.00156956  0.00248379\n",
            " -0.00497377 -0.01907602 -0.0044232   0.00509185  0.01340872  0.00013184\n",
            " -0.00039565  0.00500017  0.00810447 -0.00247668 -0.01141972  0.00802065\n",
            "  0.00366011  0.00611378  0.00103708 -0.0127774  -0.00711094  0.00198044\n",
            "  0.00984307 -0.00431901 -0.01001853  0.02317938  0.00696588  0.00243957\n",
            " -0.00192543 -0.00038574 -0.00192978  0.00359941  0.00422574  0.00522512\n",
            " -0.0079121   0.0048568   0.00508711 -0.01020022  0.00307092 -0.0175284\n",
            " -0.01651862  0.00700787  0.00409141  0.00289378  0.01680047  0.01168403\n",
            " -0.00537558  0.01161099  0.00619665  0.0031468  -0.00352496 -0.00556497\n",
            "  0.0035449  -0.0035449  -0.0026668  -0.00063594 -0.01849279 -0.00350604\n",
            "  0.01395018 -0.00682158  0.00861573  0.00587262  0.01327723 -0.00087966\n",
            " -0.00820578  0.00870855  0.01124568 -0.02899473  0.01220452  0.00805439\n",
            "  0.01319915  0.005305   -0.00061546 -0.00407139 -0.01331604  0.01652511\n",
            "  0.00602015  0.01374623 -0.0039948   0.00230216  0.00446767 -0.00301655\n",
            "  0.01033908  0.00203124 -0.00179211  0.00762362  0.00579789  0.01207874\n",
            "  0.0058112  -0.0034827   0.00995137 -0.02023777 -0.0076666   0.00366377\n",
            "  0.00693586 -0.00953447  0.00589616  0.00959528 -0.00701191  0.00281066\n",
            " -0.00398407  0.00070419  0.00281198  0.00722777  0.00775249  0.00067272\n",
            "  0.00011584 -0.00104383 -0.00081277  0.011318    0.00446849  0.00331005\n",
            " -0.00239577  0.00034261  0.00660072 -0.00603007 -0.00057065 -0.00022848\n",
            "  0.00523982 -0.00307213  0.00704065  0.00395273 -0.003161   -0.00680735\n",
            " -0.00296424  0.00114108 -0.00262665  0.00137138  0.014511   -0.00214065\n",
            " -0.0058825  -0.01267358 -0.02583934  0.00903821 -0.01780195 -0.00107103\n",
            "  0.00214109 -0.00895151  0.0173525   0.01066501  0.00789615  0.00611115\n",
            "  0.00091932 -0.00472002 -0.01875305 -0.00306173 -0.00318944  0.01000662\n",
            "  0.00304079 -0.00620852 -0.01898045  0.00418289  0.00475911  0.00343616\n",
            " -0.00118349  0.00130177 -0.00486094 -0.01750428 -0.0109452  -0.00945998\n",
            "  0.00603046 -0.01720255  0.0022445   0.00087147 -0.00074692 -0.00737453\n",
            "  0.0083703   0.00260911  0.00445714 -0.00284523]\n"
          ],
          "name": "stdout"
        }
      ]
    },
    {
      "cell_type": "markdown",
      "metadata": {
        "id": "-lzigvOZVsUe"
      },
      "source": [
        "## Annualize Daily Log Return Function"
      ]
    },
    {
      "cell_type": "markdown",
      "metadata": {
        "id": "UeK5ab3BVsUe"
      },
      "source": [
        "14. Create a function that returns the daily rate of return\n",
        "\n",
        "    step 1. define a function named `annualize_log_return`\n",
        "    \n",
        "    step 2. create parameter for  `daily_log_returns`\n",
        "    \n",
        "    step 3. use `np.mean()` with the argument `daily_log_returns` to calculate the average daily return. Then set it to the variable name `average_daily_log_returns`\n",
        "    \n",
        "    step 4. then multiply `average_daily_log_returns` by 250 and set it to the variable `annualized_log_return`\n",
        "    \n",
        "    step 5. return `annualized_log_return`"
      ]
    },
    {
      "cell_type": "code",
      "metadata": {
        "id": "aqqltws1VsUf"
      },
      "source": [
        "def annualize_log_return(daily_log_returns):\n",
        "    average_daily_log_returns = np.mean(daily_log_returns)\n",
        "    annualized_log_return = average_daily_log_returns*250\n",
        "    return annualized_log_return"
      ],
      "execution_count": 54,
      "outputs": []
    },
    {
      "cell_type": "markdown",
      "metadata": {
        "id": "jc7nLJ9zVsUi"
      },
      "source": [
        "## Calculate Annualize Daily Log Return for SBRA"
      ]
    },
    {
      "cell_type": "markdown",
      "metadata": {
        "id": "pFopV9kmVsUj"
      },
      "source": [
        "10. Call the function `annualize_log_return` with the arguments `daily_log_returns_sbra`. Set it to the variable `annualized_log_return_sbra`. Then print the results. "
      ]
    },
    {
      "cell_type": "code",
      "metadata": {
        "id": "r7j5OpUBVsUk",
        "outputId": "5f608c0f-64c7-4b68-9ea8-8bade8dca99b",
        "colab": {
          "base_uri": "https://localhost:8080/"
        }
      },
      "source": [
        "annualized_log_return_sbra = annualize_log_return(daily_log_returns_sbra)\n",
        "print(annualized_log_return_sbra)"
      ],
      "execution_count": 56,
      "outputs": [
        {
          "output_type": "stream",
          "text": [
            "0.35705738874545956\n"
          ],
          "name": "stdout"
        }
      ]
    },
    {
      "cell_type": "markdown",
      "metadata": {
        "id": "dmMErlK4VsUo"
      },
      "source": [
        "## Calculate Annualize Daily Log Return for EQR"
      ]
    },
    {
      "cell_type": "markdown",
      "metadata": {
        "id": "IJpbHJ0lVsUp"
      },
      "source": [
        "11. Call the function `annualize_log_return` with the arguments `daily_log_returns_eqr`. Set it to the variable `annualized_log_return_eqr`. Then print the results. "
      ]
    },
    {
      "cell_type": "code",
      "metadata": {
        "id": "0R7Jgzu4VsUp",
        "outputId": "0964c085-0bbb-46ac-fdb2-c3e6d89e7c8f",
        "colab": {
          "base_uri": "https://localhost:8080/"
        }
      },
      "source": [
        "annualized_log_return_eqr = annualize_log_return(daily_log_returns_eqr)\n",
        "print(annualized_log_return_eqr)"
      ],
      "execution_count": 57,
      "outputs": [
        {
          "output_type": "stream",
          "text": [
            "0.2575890134842904\n"
          ],
          "name": "stdout"
        }
      ]
    },
    {
      "cell_type": "markdown",
      "metadata": {
        "id": "385Z-6oFVsUt"
      },
      "source": [
        "## Compare the Annualize Daily Log Return between EQR and SBRA"
      ]
    },
    {
      "cell_type": "markdown",
      "metadata": {
        "id": "E_tQbiiYVsUu"
      },
      "source": [
        "12. Based on the differences between the Annualize Daily Log Return for EQR and SBRA, Which could be more profitable in the future and why?"
      ]
    },
    {
      "cell_type": "markdown",
      "metadata": {
        "id": "OkMi47l_VsUv"
      },
      "source": [
        ""
      ]
    },
    {
      "cell_type": "markdown",
      "metadata": {
        "id": "4fz6UbsgVsUv"
      },
      "source": [
        "## Calculate Variance of Daily Log Return for SBRA"
      ]
    },
    {
      "cell_type": "markdown",
      "metadata": {
        "id": "FiRBucC1VsUw"
      },
      "source": [
        "13. Calculate the variance of the daily logarithmetic return for SBRA. Use the function `.var()` with the argument `log_daily_ror`. Set it to the variable `daily_variance_sbra`. Then print the results. "
      ]
    },
    {
      "cell_type": "code",
      "metadata": {
        "id": "6ewa4rhdVsUw",
        "outputId": "231eaff1-d67e-466a-88bd-5815b0c8995c",
        "colab": {
          "base_uri": "https://localhost:8080/"
        }
      },
      "source": [
        "daily_variance_sbra = np.var(daily_log_returns_sbra)\n",
        "print(daily_variance_sbra)"
      ],
      "execution_count": 58,
      "outputs": [
        {
          "output_type": "stream",
          "text": [
            "0.0001793648876078081\n"
          ],
          "name": "stdout"
        }
      ]
    },
    {
      "cell_type": "markdown",
      "metadata": {
        "id": "ZmkKwfiOVsU0"
      },
      "source": [
        "## Calculate Variance of Daily Log Return for EQR"
      ]
    },
    {
      "cell_type": "markdown",
      "metadata": {
        "id": "oUPcB73EVsU0"
      },
      "source": [
        "14. Calculate the variance of the daily logarithmetic return for EQR. Use the function `.var()` with the argument `daily_log_returns_eqr`. Set it to the variable `daily_varaince_eqr`. Then print the results. "
      ]
    },
    {
      "cell_type": "code",
      "metadata": {
        "id": "oIscK6WgVsU1",
        "outputId": "daa60f58-80ab-470a-8904-747994a59497",
        "colab": {
          "base_uri": "https://localhost:8080/"
        }
      },
      "source": [
        "daily_variance_eqr = np.var(daily_log_returns_eqr)\n",
        "print(daily_variance_eqr)"
      ],
      "execution_count": 59,
      "outputs": [
        {
          "output_type": "stream",
          "text": [
            "7.293306154963356e-05\n"
          ],
          "name": "stdout"
        }
      ]
    },
    {
      "cell_type": "markdown",
      "metadata": {
        "id": "YM2iQDhxVsU4"
      },
      "source": [
        "## Compare the Variance of Daily Log Return between EQR and SBRA"
      ]
    },
    {
      "cell_type": "markdown",
      "metadata": {
        "id": "8asFx64ZVsU4"
      },
      "source": [
        "15. Explain which investment is more riskier based on the Variance of daily log return between EQR and SBRA ?"
      ]
    },
    {
      "cell_type": "markdown",
      "metadata": {
        "id": "S1k1ooa1VsU5"
      },
      "source": [
        ""
      ]
    },
    {
      "cell_type": "markdown",
      "metadata": {
        "id": "zlTrE9_cVsU6"
      },
      "source": [
        "## Calculate the Daily Standard Deviation for SBRA"
      ]
    },
    {
      "cell_type": "markdown",
      "metadata": {
        "id": "KUs2EsPJVsU6"
      },
      "source": [
        "16. Calculate the Standard Deviation of the daily logarithmetic return for SBRA. Use the function `.std()` with the argument `daily_log_returns_sbra`. Set it to the variable `daily_sd_sbra`. Then print the results. "
      ]
    },
    {
      "cell_type": "code",
      "metadata": {
        "id": "XO84agITVsU7",
        "outputId": "ed2d85ca-b408-4aed-d609-78a8c2b972fa",
        "colab": {
          "base_uri": "https://localhost:8080/"
        }
      },
      "source": [
        "daily_sd_sbra = np.std(daily_log_returns_sbra)\n",
        "print(daily_sd_sbra)"
      ],
      "execution_count": 60,
      "outputs": [
        {
          "output_type": "stream",
          "text": [
            "0.013392717708060903\n"
          ],
          "name": "stdout"
        }
      ]
    },
    {
      "cell_type": "markdown",
      "metadata": {
        "id": "WR2LuWIyVsU_"
      },
      "source": [
        "## Calculate the Daily Standard Deviation for EQR"
      ]
    },
    {
      "cell_type": "markdown",
      "metadata": {
        "id": "lO2jSW0KVsU_"
      },
      "source": [
        "17. Calculate the Standard Deviation of the daily logarithmetic return for EQR. Use the function `.std()` with the argument `daily_log_returns_eqr`. Set it to the variable `daily_sd_eqr`. Then print the results. "
      ]
    },
    {
      "cell_type": "code",
      "metadata": {
        "id": "orJi7IxeVsVA",
        "outputId": "715f3b1b-d973-40ce-dc09-9dd3283bfd5f",
        "colab": {
          "base_uri": "https://localhost:8080/"
        }
      },
      "source": [
        "daily_sd_eqr = np.std(daily_log_returns_eqr)\n",
        "print(daily_sd_eqr)"
      ],
      "execution_count": 61,
      "outputs": [
        {
          "output_type": "stream",
          "text": [
            "0.008540085570392932\n"
          ],
          "name": "stdout"
        }
      ]
    },
    {
      "cell_type": "markdown",
      "metadata": {
        "id": "w6anyZW0VsVC"
      },
      "source": [
        "## Compare the Daily Standard Deviation between EQR and SBRA"
      ]
    },
    {
      "cell_type": "markdown",
      "metadata": {
        "id": "ul2r8ovWVsVD"
      },
      "source": [
        "18. Has your previous variance risk assessment changed based on the Daily Standard Deviation and why?"
      ]
    },
    {
      "cell_type": "markdown",
      "metadata": {
        "id": "6mzqjZfHVsVD"
      },
      "source": [
        ""
      ]
    },
    {
      "cell_type": "markdown",
      "metadata": {
        "id": "AiqsUwT-VsVE"
      },
      "source": [
        "## Calculate the Correlation between SBRA and EQR"
      ]
    },
    {
      "cell_type": "markdown",
      "metadata": {
        "id": "10d1qPFpVsVE"
      },
      "source": [
        "19. Calculate the Correlation of the daily logarithmetic return between SBRA and ERQ assets. Use the function `.corrcoef()` with the arguments `daily_log_returns_sbra` and `daily_log_returns_eqr`. Set it to the variable `corr_sbra_eqr`. Then print the results. "
      ]
    },
    {
      "cell_type": "code",
      "metadata": {
        "id": "k6kOy3JLVsVF",
        "outputId": "75ddc02e-9fd5-4fa4-a09c-06e3f8b0d1a7",
        "colab": {
          "base_uri": "https://localhost:8080/"
        }
      },
      "source": [
        "corr_sbra_eqr = np.corrcoef(daily_log_returns_sbra, daily_log_returns_eqr)\n",
        "print(corr_sbra_eqr)"
      ],
      "execution_count": 63,
      "outputs": [
        {
          "output_type": "stream",
          "text": [
            "[[1.         0.61082588]\n",
            " [0.61082588 1.        ]]\n"
          ],
          "name": "stdout"
        }
      ]
    },
    {
      "cell_type": "markdown",
      "metadata": {
        "id": "eTFQqOlwVsVH"
      },
      "source": [
        "## Interpret the Correlation between SBRA and EQR"
      ]
    },
    {
      "cell_type": "markdown",
      "metadata": {
        "id": "RWbFQ8MNVsVI"
      },
      "source": [
        "20. Interpret and explain the correlation between the stocks SBRA and EQR?"
      ]
    },
    {
      "cell_type": "markdown",
      "metadata": {
        "id": "01AVQOW7VsVI"
      },
      "source": [
        "## Final Analysis"
      ]
    },
    {
      "cell_type": "markdown",
      "metadata": {
        "id": "zjaOm8_8VsVJ"
      },
      "source": [
        "21. Which stock would you invest in based on risk and profitability?"
      ]
    },
    {
      "cell_type": "markdown",
      "metadata": {
        "id": "9lIwqZCdks-9"
      },
      "source": [
        ""
      ]
    }
  ]
}
